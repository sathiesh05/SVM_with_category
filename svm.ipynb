{
 "cells": [
  {
   "cell_type": "code",
   "execution_count": 5,
   "metadata": {},
   "outputs": [],
   "source": [
    "import pandas as pd\n",
    "from sklearn.svm import SVC\n",
    "from sklearn.model_selection import KFold, cross_val_score\n",
    "from sklearn.preprocessing import LabelEncoder\n",
    "import numpy as np\n"
   ]
  },
  {
   "cell_type": "code",
   "execution_count": 6,
   "metadata": {},
   "outputs": [],
   "source": [
    "\n",
    "df2 = pd.read_excel(\"Dry_Bean_Dataset.xlsx\")\n",
    "df3 = pd.read_excel(\"Raisin_Dataset.xlsx\")\n",
    "\n",
    "datasets_name = ['drybean', 'raisin']\n",
    "datasets = {\n",
    "    'X': [df2.drop(columns='Class'), df3.drop(columns='Class')],\n",
    "    'y': [df2['Class'], df3['Class']]\n",
    "}\n",
    "combinations = [\n",
    "    {'C':0.5,'kernel':'linear','gamma':'auto'},\n",
    "    {'C':0.45,'kernel':'rbf','gamma':'scale'},\n",
    "    {'C':0.8,'kernel':'sigmoid','gamma':0.9}\n",
    "]\n",
    "kf = KFold(n_splits=5, shuffle=True, random_state=42)\n",
    "results = []\n",
    "best_params = {'drybean': {}, 'raisin': {}}\n",
    "best_scores = {'drybean': 0, 'raisin': 0}\n"
   ]
  },
  {
   "cell_type": "code",
   "execution_count": 7,
   "metadata": {},
   "outputs": [
    {
     "name": "stdout",
     "output_type": "stream",
     "text": [
      "\n",
      "Dataset: drybean\n",
      "\n",
      "Dataset: raisin\n"
     ]
    }
   ],
   "source": [
    "for i, dataset_name in enumerate(datasets_name):\n",
    "    best_score = 0\n",
    "    X = datasets['X'][i]\n",
    "    y = datasets['y'][i]\n",
    "\n",
    "    print(f\"\\nDataset: {dataset_name}\")    \n",
    "    for params in combinations:\n",
    "        model = SVC(**params, random_state=42)\n",
    "        cv_scores = cross_val_score(model, X, y, cv=kf, scoring='accuracy')\n",
    "        mean_score = np.mean(cv_scores)\n",
    "        results.append({\n",
    "            'Dataset': dataset_name,\n",
    "            'C':params['C'],\n",
    "            'Kernel':params['kernel'],\n",
    "            'gamma':params['gamma'],\n",
    "            'Mean_CV_Accuracy':mean_score\n",
    "        })\n",
    "        if mean_score > best_scores[dataset_name]:\n",
    "            best_scores[dataset_name] = mean_score\n",
    "            best_params[dataset_name] = params"
   ]
  },
  {
   "cell_type": "code",
   "execution_count": 8,
   "metadata": {},
   "outputs": [
    {
     "name": "stdout",
     "output_type": "stream",
     "text": [
      "[{'Dataset': 'drybean', 'C': 0.5, 'Kernel': 'linear', 'gamma': 'auto', 'Mean_CV_Accuracy': 0.9147011213968256}, {'Dataset': 'drybean', 'C': 0.45, 'Kernel': 'rbf', 'gamma': 'scale', 'Mean_CV_Accuracy': 0.6334583916958513}, {'Dataset': 'drybean', 'C': 0.8, 'Kernel': 'sigmoid', 'gamma': 0.9, 'Mean_CV_Accuracy': 0.26052561209475544}, {'Dataset': 'raisin', 'C': 0.5, 'Kernel': 'linear', 'gamma': 'auto', 'Mean_CV_Accuracy': 0.8566666666666667}, {'Dataset': 'raisin', 'C': 0.45, 'Kernel': 'rbf', 'gamma': 'scale', 'Mean_CV_Accuracy': 0.8188888888888888}, {'Dataset': 'raisin', 'C': 0.8, 'Kernel': 'sigmoid', 'gamma': 0.9, 'Mean_CV_Accuracy': 0.4644444444444444}]\n",
      "\n",
      "Best Parameters for drybean:\n",
      "{'C': 0.5, 'kernel': 'linear', 'gamma': 'auto'}\n",
      "Maximum Mean CV Accuracy: 0.9147011213968256\n",
      "\n",
      "Best Parameters for raisin:\n",
      "{'C': 0.5, 'kernel': 'linear', 'gamma': 'auto'}\n",
      "Maximum Mean CV Accuracy: 0.8566666666666667\n"
     ]
    }
   ],
   "source": [
    "print(results)\n",
    "for dataset_name in datasets_name:\n",
    "    print(f\"\\nBest Parameters for {dataset_name}:\")\n",
    "    print(best_params[dataset_name])\n",
    "    print(f\"Maximum Mean CV Accuracy: {best_scores[dataset_name]}\")"
   ]
  }
 ],
 "metadata": {
  "kernelspec": {
   "display_name": "base",
   "language": "python",
   "name": "python3"
  },
  "language_info": {
   "codemirror_mode": {
    "name": "ipython",
    "version": 3
   },
   "file_extension": ".py",
   "mimetype": "text/x-python",
   "name": "python",
   "nbconvert_exporter": "python",
   "pygments_lexer": "ipython3",
   "version": "3.12.5"
  }
 },
 "nbformat": 4,
 "nbformat_minor": 2
}
